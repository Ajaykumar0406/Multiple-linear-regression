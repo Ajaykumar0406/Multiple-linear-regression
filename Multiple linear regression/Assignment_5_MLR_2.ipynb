{
  "nbformat": 4,
  "nbformat_minor": 0,
  "metadata": {
    "colab": {
      "provenance": []
    },
    "kernelspec": {
      "name": "python3",
      "display_name": "Python 3"
    },
    "language_info": {
      "name": "python"
    }
  },
  "cells": [
    {
      "cell_type": "code",
      "execution_count": null,
      "metadata": {
        "id": "VnPfRv2GqTWq"
      },
      "outputs": [],
      "source": [
        "#Prepare a prediction model for profit of 50_startups data.\n",
        "#Do transformations for getting better predictions of profit and\n",
        "#make a table containing R^2 value for each prepared model.\n",
        "\n",
        "#R&D Spend -- Research and devolop spend in the past few years\n",
        "#Administration -- spend on administration in the past few years\n",
        "#Marketing Spend -- spend on Marketing in the past few years\n",
        "#State -- states from which data is collected\n",
        "#Profit  -- profit of each state in the past few years"
      ]
    },
    {
      "cell_type": "code",
      "source": [
        "import pandas as pd\n",
        "import numpy as np\n",
        "from sklearn.model_selection import train_test_split\n",
        "from sklearn.linear_model import LinearRegression\n",
        "from sklearn.metrics import mean_squared_error, r2_score\n",
        "import math\n",
        "\n",
        "data=pd.read_csv('/content/50_Startups.csv')\n",
        "\n",
        "# Assuming you have a DataFrame 'data' with the mentioned columns\n",
        "features = [\"R&D Spend\", \"Administration\", \"Marketing Spend\"]\n",
        "X = data[features]\n",
        "y = data['Profit']\n",
        "\n",
        "X_train, X_test, y_train, y_test = train_test_split(X, y, test_size=0.2, random_state=0)\n",
        "\n",
        "# Creating linear regression model\n",
        "model = LinearRegression()\n",
        "model.fit(X_train, y_train) #training the algorithm\n",
        "\n",
        "# Predicting profit using sorting time\n",
        "y_pred = model.predict(X_test)\n",
        "\n",
        "# Calculating R^2 for linear model\n",
        "r2_linear = r2_score(y_test, y_pred)\n",
        "print(\"R^2 for Linear Model: \", r2_linear)\n",
        "\n",
        "# Applying transformational models\n",
        "X_train_log = np.log(X_train)\n",
        "X_test_log = np.log(X_test)\n",
        "\n",
        "y_pred_log = model.predict(X_test_log)\n",
        "r2_log = r2_score(y_test, y_pred_log)\n",
        "print(\"R^2 for Log Model: \", r2_log)\n",
        "\n",
        "X_train_sqrt = np.sqrt(X_train)\n",
        "X_test_sqrt = np.sqrt(X_test)\n",
        "\n",
        "y_pred_sqrt = model.predict(X_test_sqrt)\n",
        "r2_sqrt = r2_score(y_test, y_pred_sqrt)\n",
        "print(\"R^2 for Sqrt Model: \", r2_sqrt)\n",
        "\n",
        "X_train_sq = np.square(X_train)\n",
        "X_test_sq = np.square(X_test)\n",
        "\n",
        "y_pred_sq = model.predict(X_test_sq)\n",
        "r2_sq = r2_score(y_test, y_pred_sq)\n",
        "print(\"R^2 for Square Model: \", r2_sq)\n"
      ],
      "metadata": {
        "colab": {
          "base_uri": "https://localhost:8080/"
        },
        "id": "Bf6CMjNRqT5K",
        "outputId": "839f9717-f5c5-4e59-f78e-25a6825d3ab1"
      },
      "execution_count": 12,
      "outputs": [
        {
          "output_type": "stream",
          "name": "stdout",
          "text": [
            "R^2 for Linear Model:  0.9393955917820569\n",
            "R^2 for Log Model:  -4.914505391850351\n",
            "R^2 for Sqrt Model:  -4.882513607316655\n",
            "R^2 for Square Model:  -110919093105.47133\n"
          ]
        },
        {
          "output_type": "stream",
          "name": "stderr",
          "text": [
            "/usr/local/lib/python3.10/dist-packages/pandas/core/internals/blocks.py:351: RuntimeWarning: divide by zero encountered in log\n",
            "  result = func(self.values, **kwargs)\n"
          ]
        }
      ]
    },
    {
      "cell_type": "code",
      "source": [],
      "metadata": {
        "id": "CQ6Vb2sFqT-P"
      },
      "execution_count": null,
      "outputs": []
    },
    {
      "cell_type": "code",
      "source": [],
      "metadata": {
        "id": "3Zy5NCBVqUAf"
      },
      "execution_count": null,
      "outputs": []
    },
    {
      "cell_type": "code",
      "source": [],
      "metadata": {
        "id": "bT34itduqUDX"
      },
      "execution_count": null,
      "outputs": []
    },
    {
      "cell_type": "code",
      "source": [],
      "metadata": {
        "id": "2xbbI0ExqUF-"
      },
      "execution_count": null,
      "outputs": []
    },
    {
      "cell_type": "code",
      "source": [],
      "metadata": {
        "id": "7ryWkE-eqUJe"
      },
      "execution_count": null,
      "outputs": []
    }
  ]
}