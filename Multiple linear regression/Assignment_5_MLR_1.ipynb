{
  "nbformat": 4,
  "nbformat_minor": 0,
  "metadata": {
    "colab": {
      "provenance": []
    },
    "kernelspec": {
      "name": "python3",
      "display_name": "Python 3"
    },
    "language_info": {
      "name": "python"
    }
  },
  "cells": [
    {
      "cell_type": "code",
      "execution_count": null,
      "metadata": {
        "id": "Sg8I5RZxRjBW"
      },
      "outputs": [],
      "source": [
        "                                                #  Multi Linear Regression\n",
        "\n",
        "#Consider only the below columns and prepare a prediction model for predicting Price.\n",
        "\n",
        "#Corolla<-Corolla[c(\"Price\",\"Age_08_04\",\"KM\",\"HP\",\"cc\",\"Doors\",\"Gears\",\"Quarterly_Tax\",\"Weight\")]\n",
        "#Model -- model of the car\n",
        "#Price  -- Offer Price in EUROs\n",
        "#Age_08_04 -- Age in months as in August 2004\n",
        "#Mfg_Month -- Manufacturing month (1-12)\n",
        "#Mfg_Year\t-- Manufacturing Year\n",
        "#KM -- Accumulated Kilometers on odometer\n",
        "#Fuel_Type\t -- Fuel Type (Petrol, Diesel, CNG)\n",
        "#HP -- Horse Power\n",
        "#Met_Color\t -- Metallic Color?  (Yes=1, No=0)\n",
        "#Color -- Color (Blue, Red, Grey, Silver, Black, etc.)\n",
        "#Automatic\t-- Automatic ( (Yes=1, No=0)\n",
        "#cc -- Cylinder Volume in cubic centimeters\n",
        "#Doors -- Number of doors\n",
        "#Cylinders\t-- Number of cylinders\n",
        "#Gears -- Number of gear positions\n",
        "#Quarterly_Tax -- Quarterly road tax in EUROs\n",
        "#Weight -- Weight in Kilograms\n",
        "#Mfr_Guarantee -- Within Manufacturer's Guarantee period  (Yes=1, No=0)\n",
        "#BOVAG_Guarantee -- BOVAG (Dutch dealer network) Guarantee  (Yes=1, No=0)\n",
        "#Guarantee_Period -- \tGuarantee period in months\n",
        "#ABS -- Anti-Lock Brake System (Yes=1, No=0)\n",
        "#Airbag_1 -- Driver_Airbag  (Yes=1, No=0)\n",
        "#Airbag_2 -- Passenger Airbag  (Yes=1, No=0)\n",
        "#Airco -- Airconditioning  (Yes=1, No=0)\n",
        "#Automatic_airco -- Automatic Airconditioning  (Yes=1, No=0)\n",
        "#Boardcomputer -- Boardcomputer  (Yes=1, No=0)\n",
        "#CD_Player -- CD Player  (Yes=1, No=0)\n",
        "#Central_Lock -- Central Lock  (Yes=1, No=0)\n",
        "#Powered_Windows -- Powered Windows  (Yes=1, No=0)\n",
        "#Power_Steering -- Power Steering  (Yes=1, No=0)\n",
        "#Radio -- Radio  (Yes=1, No=0)\n",
        "#Mistlamps\t-- Mistlamps  (Yes=1, No=0)\n",
        "#Sport_Model -- Sport Model  (Yes=1, No=0)\n",
        "#Backseat_Divider -- Backseat Divider  (Yes=1, No=0)\n",
        "#Metallic_Rim --Metallic Rim  (Yes=1, No=0)\n",
        "#Radio_cassette -- Radio Cassette  (Yes=1, No=0)\n",
        "#Tow_Bar -- Tow Bar  (Yes=1, No=0)"
      ]
    },
    {
      "cell_type": "code",
      "source": [
        "import pandas as pd\n",
        "import numpy as np\n",
        "from sklearn.model_selection import train_test_split\n",
        "from sklearn.linear_model import LinearRegression\n",
        "from sklearn import metrics\n",
        "\n",
        "data = pd.read_csv('/content/ToyotaCorolla-5.txt')\n",
        "\n",
        "\n",
        "# Assuming you have a DataFrame 'data' with the mentioned columns\n",
        "features = [\"Age_08_04\", \"KM\", \"HP\", \"cc\", \"Doors\", \"Gears\", \"Quarterly_Tax\", \"Weight\"]\n",
        "X = data[features]\n",
        "y = data['Price']\n",
        "\n",
        "X_train, X_test, y_train, y_test = train_test_split(X, y, test_size=0.2, random_state=0)\n",
        "\n",
        "regressor = LinearRegression()\n",
        "regressor.fit(X_train, y_train) #training the algorithm\n",
        "\n",
        "#To retrieve the intercept:\n",
        "print(regressor.intercept_)\n",
        "#For retrieving the slope:\n",
        "print(regressor.coef_)\n",
        "\n",
        "y_pred = regressor.predict(X_test)\n",
        "\n",
        "data = pd.DataFrame({'Actual': y_test.to_numpy().flatten(), 'Predicted': y_pred.flatten()})\n",
        "print(data)\n"
      ],
      "metadata": {
        "colab": {
          "base_uri": "https://localhost:8080/"
        },
        "id": "ZvMDXVNfRnv4",
        "outputId": "c4e02a03-aed4-47a3-9f24-23e6e6d520ad"
      },
      "execution_count": null,
      "outputs": [
        {
          "output_type": "stream",
          "name": "stdout",
          "text": [
            "-6927.799788506098\n",
            "[-1.21138340e+02 -1.84009991e-02  3.32294159e+01 -2.00293743e+00\n",
            " -2.81967458e+01  6.09551830e+02  7.27983837e+00  2.04162532e+01]\n",
            "     Actual     Predicted\n",
            "0      7950   8289.009898\n",
            "1     10950  10517.002275\n",
            "2     14950  13010.622495\n",
            "3      7500   7666.595660\n",
            "4      9900  10486.851572\n",
            "..      ...           ...\n",
            "283   10450  11406.050031\n",
            "284    9400  10421.958139\n",
            "285    9950  10104.782312\n",
            "286   11750  12776.962274\n",
            "287    7950   7322.204322\n",
            "\n",
            "[288 rows x 2 columns]\n"
          ]
        }
      ]
    },
    {
      "cell_type": "code",
      "source": [],
      "metadata": {
        "id": "FCbA2NB2Rn0m"
      },
      "execution_count": null,
      "outputs": []
    },
    {
      "cell_type": "code",
      "source": [],
      "metadata": {
        "id": "RgIUanlQRn25"
      },
      "execution_count": null,
      "outputs": []
    },
    {
      "cell_type": "code",
      "source": [],
      "metadata": {
        "id": "KG_6uhHERn6Z"
      },
      "execution_count": null,
      "outputs": []
    },
    {
      "cell_type": "code",
      "source": [],
      "metadata": {
        "id": "uFshTt0YXzmR"
      },
      "execution_count": null,
      "outputs": []
    },
    {
      "cell_type": "code",
      "source": [],
      "metadata": {
        "id": "PSJ6jsG5Xzpx"
      },
      "execution_count": null,
      "outputs": []
    }
  ]
}